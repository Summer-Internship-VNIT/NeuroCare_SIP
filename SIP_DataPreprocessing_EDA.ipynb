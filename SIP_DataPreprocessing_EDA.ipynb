{
 "cells": [
  {
   "cell_type": "markdown",
   "id": "c6c22ffe-3d78-43b1-81a6-8e598c12efbd",
   "metadata": {},
   "source": [
    "# NeuroCare SIP Project"
   ]
  },
  {
   "cell_type": "code",
   "execution_count": 1,
   "id": "c0bf39e7-cacb-4bbb-a374-92df93aa6232",
   "metadata": {},
   "outputs": [],
   "source": [
    "import pandas as pd\n",
    "import numpy as np\n",
    "import seaborn as sns\n",
    "import matplotlib.pyplot as plt\n",
    "from sklearn.model_selection import train_test_split\n",
    "from sklearn.metrics import classification_report, confusion_matrix\n",
    "from sklearn.preprocessing import LabelEncoder\n",
    "from sklearn.preprocessing import StandardScaler\n",
    "import joblib"
   ]
  },
  {
   "cell_type": "markdown",
   "id": "f53d2d3e-a611-4ab6-a436-321e5ec4d948",
   "metadata": {},
   "source": [
    "## Data Generation"
   ]
  },
  {
   "cell_type": "code",
   "execution_count": 2,
   "id": "e73da524-1e65-42ac-a901-2dd6739ff7a3",
   "metadata": {},
   "outputs": [],
   "source": [
    "# np.random.seed(42)\n",
    "\n",
    "# def generate_data(n, ranges, condition):\n",
    "#     data = []\n",
    "#     for _ in range(n):\n",
    "#         row = {\n",
    "#             'TLC': np.random.randint(*ranges['TLC']),\n",
    "#             'Lymphocytes(%)': np.random.randint(*ranges['Lymphocytes']),\n",
    "#             'Polymorphs(%)': np.random.randint(*ranges['Polymorphs']),\n",
    "#             'Protein': np.random.randint(*ranges['Protein']),\n",
    "#             'Sugar': np.random.randint(*ranges['Sugar']),\n",
    "#             'Condition': condition\n",
    "#         }\n",
    "#         data.append(row)\n",
    "#     return pd.DataFrame(data)\n",
    "\n",
    "# # Feature value ranges (inclusive-exclusive format for randint)\n",
    "# normal_ranges = {\n",
    "#     'TLC': (1, 5),  # <5\n",
    "#     'Lymphocytes': (0, 11),  # 0–10\n",
    "#     'Polymorphs': (0, 11),   # 0–10\n",
    "#     'Protein': (6, 9),       # 6–8\n",
    "#     'Sugar': (70, 100)       # 70–99\n",
    "# }\n",
    "\n",
    "# tbm_ranges = {\n",
    "#     'TLC': (5, 251),          # 5–250\n",
    "#     'Lymphocytes': (70, 101), # 70–100\n",
    "#     'Polymorphs': (0, 31),    # 0–30\n",
    "#     'Protein': (58, 201),     # 58–200\n",
    "#     'Sugar': (20, 51)         # 20–50\n",
    "# }\n",
    "\n",
    "# pm_ranges = {\n",
    "#     'TLC': (251, 401),        # >250\n",
    "#     'Lymphocytes': (0, 21),   # 0–20\n",
    "#     'Polymorphs': (20, 101),  # 20–100\n",
    "#     'Protein': (201, 301),    # >200\n",
    "#     'Sugar': (2, 31)          # 2–30\n",
    "# }\n",
    "\n",
    "# # Generate data\n",
    "# normal_df = generate_data(15000, normal_ranges, 'Normal')\n",
    "# tbm_df = generate_data(7500, tbm_ranges, 'Abnormal')\n",
    "# pm_df = generate_data(7500, pm_ranges, 'Abnormal')\n",
    "\n",
    "# # Combine and shuffle\n",
    "# full_df = pd.concat([normal_df, tbm_df, pm_df], ignore_index=True)\n",
    "# full_df = full_df.sample(frac=1, random_state=42).reset_index(drop=True)\n",
    "\n",
    "# # Save to CSV\n",
    "# full_df.to_csv(\"Augmented_Ranges.csv\", index=False)\n",
    "\n",
    "# print(\"✅ Dataset generated and saved as 'Augmented_Ranges.csv'\")\n"
   ]
  },
  {
   "cell_type": "code",
   "execution_count": 3,
   "id": "a81c229d-bd84-4021-aad2-55878a484b3a",
   "metadata": {},
   "outputs": [],
   "source": [
    "\n",
    "# # Load the original dataset\n",
    "# df = pd.read_csv(\"test-Sheet1.csv\")\n",
    "# df.columns = [col.strip() for col in df.columns]\n",
    "\n",
    "# # Define target size\n",
    "# target_samples = 5000\n",
    "# existing_samples = len(df)\n",
    "# samples_to_generate = target_samples - existing_samples\n",
    "\n",
    "# # Ensure balanced augmentation\n",
    "# class_distribution = df['Condition'].value_counts(normalize=True)\n",
    "# grouped = df.groupby('Condition')\n",
    "\n",
    "# # Function to generate integer-only, noise-added synthetic data\n",
    "# def generate_augmented_data(group, n_samples):\n",
    "#     synthetic = []\n",
    "#     for _ in range(n_samples):\n",
    "#         sample = group.sample(1, replace=True).iloc[0].copy()\n",
    "\n",
    "#         sample['TLC'] = int(round(max(0, sample['TLC'] + np.random.normal(0, 1))))\n",
    "#         sample['Lymphocytes(%)'] = int(round(np.clip(sample['Lymphocytes(%)'] + np.random.normal(0, 2), 0, 100)))\n",
    "#         sample['Polymorphs(%)'] = int(round(np.clip(sample['Polymorphs(%)'] + np.random.normal(0, 2), 0, 100)))\n",
    "#         sample['Protein'] = int(round(max(0, sample['Protein'] + np.random.normal(0, 5))))\n",
    "#         sample['Sugar'] = int(round(max(0, sample['Sugar'] + np.random.normal(0, 3))))\n",
    "\n",
    "#         synthetic.append(sample)\n",
    "#     return pd.DataFrame(synthetic)\n",
    "\n",
    "# # Generate synthetic samples for each class\n",
    "# synthetic_df = pd.concat([\n",
    "#     generate_augmented_data(group, int(samples_to_generate * class_distribution[cls]))\n",
    "#     for cls, group in grouped\n",
    "# ], ignore_index=True)\n",
    "\n",
    "# # Combine and save\n",
    "# augmented_df = pd.concat([df, synthetic_df], ignore_index=True)\n",
    "# augmented_df.to_csv(\"augmented_testSheet1_dataset_5000.csv\", index=False)\n",
    "\n",
    "# print(\"✅ Augmented dataset saved as 'augmented_testSheet1_dataset_5000.csv'\")\n"
   ]
  },
  {
   "cell_type": "code",
   "execution_count": 4,
   "id": "cef6cdab-c2fa-4c83-bb10-e9d541b4bc12",
   "metadata": {},
   "outputs": [],
   "source": [
    "# import pandas as pd\n",
    "# import numpy as np\n",
    "\n",
    "# # Load the original dataset\n",
    "# df = pd.read_csv(\"firstData.csv\")\n",
    "# df.columns = [col.strip() for col in df.columns]\n",
    "\n",
    "# # Define target size\n",
    "# target_samples = 5000\n",
    "# existing_samples = len(df)\n",
    "# samples_to_generate = target_samples - existing_samples\n",
    "\n",
    "# # Ensure balanced augmentation\n",
    "# class_distribution = df['Condition'].value_counts(normalize=True)\n",
    "# grouped = df.groupby('Condition')\n",
    "\n",
    "# # Function to generate integer-only, noise-added synthetic data\n",
    "# def generate_augmented_data(group, n_samples):\n",
    "#     synthetic = []\n",
    "#     for _ in range(n_samples):\n",
    "#         sample = group.sample(1, replace=True).iloc[0].copy()\n",
    "\n",
    "#         sample['TLC'] = int(round(max(0, sample['TLC'] + np.random.normal(0, 1))))\n",
    "#         sample['Lymphocytes(%)'] = int(round(np.clip(sample['Lymphocytes(%)'] + np.random.normal(0, 2), 0, 100)))\n",
    "#         sample['Polymorphs(%)'] = int(round(np.clip(sample['Polymorphs(%)'] + np.random.normal(0, 2), 0, 100)))\n",
    "#         sample['Protein'] = int(round(max(0, sample['Protein'] + np.random.normal(0, 5))))\n",
    "#         sample['Sugar'] = int(round(max(0, sample['Sugar'] + np.random.normal(0, 3))))\n",
    "\n",
    "#         synthetic.append(sample)\n",
    "#     return pd.DataFrame(synthetic)\n",
    "\n",
    "# # Generate synthetic samples for each class\n",
    "# synthetic_df = pd.concat([\n",
    "#     generate_augmented_data(group, int(samples_to_generate * class_distribution[cls]))\n",
    "#     for cls, group in grouped\n",
    "# ], ignore_index=True)\n",
    "\n",
    "# # Combine and save\n",
    "# augmented_df = pd.concat([df, synthetic_df], ignore_index=True)\n",
    "# augmented_df.to_csv(\"augmented_firstData_5000.csv\", index=False)\n",
    "\n",
    "# print(\"✅ Augmented dataset saved as 'augmented_firstData_5000.csv'\")\n"
   ]
  },
  {
   "cell_type": "code",
   "execution_count": 5,
   "id": "d34f2647-b852-42e7-bdb0-c12572165de2",
   "metadata": {},
   "outputs": [],
   "source": [
    "# import pandas as pd\n",
    "\n",
    "# df1 = pd.read_csv(\"augmented_firstData_5000.csv\")\n",
    "# df2 = pd.read_csv(\"augmented_testSheet1_dataset_5000.csv\")\n",
    "# df3 = pd.read_csv(\"Augmented_Ranges.csv\")\n",
    "\n",
    "# df1.columns = [col.strip() for col in df1.columns]\n",
    "# df2.columns = [col.strip() for col in df2.columns]\n",
    "# df3.columns = [col.strip() for col in df3.columns]\n",
    "\n",
    "# merged_df = pd.concat([df1, df2, df3], ignore_index=True)\n",
    "\n",
    "# # Shuffle the merged dataset\n",
    "# merged_df = merged_df.sample(frac=1, random_state=42).reset_index(drop=True)\n",
    "\n",
    "# merged_df.to_csv(\"Normal_Abnormal_merged_random_dataset.csv\", index=False)\n",
    "\n",
    "# print(\"✅ Merged and shuffled dataset saved as 'Normal_Abnormal_merged_random_dataset.csv'\")\n"
   ]
  },
  {
   "cell_type": "code",
   "execution_count": 7,
   "id": "298c0f02-3cb0-4e4e-9371-1d23c48f4d76",
   "metadata": {},
   "outputs": [],
   "source": [
    "# merged_df.info()"
   ]
  },
  {
   "cell_type": "code",
   "execution_count": 8,
   "id": "a7d354ce-1f50-46bb-86b8-6cfdb27a8c47",
   "metadata": {},
   "outputs": [],
   "source": [
    "# merged_df['Condition'].value_counts()"
   ]
  },
  {
   "cell_type": "code",
   "execution_count": 9,
   "id": "b12b2485-d4e0-42cb-9556-83e2b0128af6",
   "metadata": {},
   "outputs": [],
   "source": [
    "# merged_df['Condition'] = merged_df['Condition'].replace({'TBM': 'Abnormal', 'PM': 'Abnormal'})\n",
    "\n",
    "# print(merged_df['Condition'].value_counts())\n",
    "\n",
    "# merged_df.to_csv(\"updated_condition_dataset.csv\", index=False)\n",
    "\n",
    "# print(\"✅ Saved as 'updated_condition_dataset.csv'\")"
   ]
  },
  {
   "cell_type": "markdown",
   "id": "b825fd19-da55-4e6c-ae0a-77e5d449c74a",
   "metadata": {},
   "source": [
    "### Load updated Dataset"
   ]
  },
  {
   "cell_type": "code",
   "execution_count": 10,
   "id": "390cbb72-a94e-469b-87e5-99ed38fae935",
   "metadata": {},
   "outputs": [],
   "source": [
    "df = pd.read_csv(\"updated_condition_dataset.csv\")"
   ]
  },
  {
   "cell_type": "markdown",
   "id": "0ac8a20b-e905-483c-9ae6-0c25427450bf",
   "metadata": {},
   "source": [
    "## Data Preprocessing"
   ]
  },
  {
   "cell_type": "code",
   "execution_count": 11,
   "id": "a872871f-a35c-4bc8-8dcf-985b6a400c58",
   "metadata": {},
   "outputs": [
    {
     "data": {
      "text/plain": [
       "(39998, 6)"
      ]
     },
     "execution_count": 11,
     "metadata": {},
     "output_type": "execute_result"
    }
   ],
   "source": [
    "df.shape"
   ]
  },
  {
   "cell_type": "code",
   "execution_count": 12,
   "id": "0666fd5a-5f78-4a90-b91e-4e99923bf93f",
   "metadata": {},
   "outputs": [
    {
     "name": "stdout",
     "output_type": "stream",
     "text": [
      "<class 'pandas.core.frame.DataFrame'>\n",
      "RangeIndex: 39998 entries, 0 to 39997\n",
      "Data columns (total 6 columns):\n",
      " #   Column          Non-Null Count  Dtype  \n",
      "---  ------          --------------  -----  \n",
      " 0   TLC             39998 non-null  int64  \n",
      " 1   Lymphocytes(%)  39998 non-null  int64  \n",
      " 2   Polymorphs(%)   39998 non-null  int64  \n",
      " 3   Protein         39998 non-null  float64\n",
      " 4   Sugar           39998 non-null  float64\n",
      " 5   Condition       39998 non-null  object \n",
      "dtypes: float64(2), int64(3), object(1)\n",
      "memory usage: 1.8+ MB\n"
     ]
    }
   ],
   "source": [
    "df.info()"
   ]
  },
  {
   "cell_type": "code",
   "execution_count": 13,
   "id": "587a6870-968f-4c56-9f48-565bce025a8c",
   "metadata": {},
   "outputs": [
    {
     "data": {
      "text/html": [
       "<div>\n",
       "<style scoped>\n",
       "    .dataframe tbody tr th:only-of-type {\n",
       "        vertical-align: middle;\n",
       "    }\n",
       "\n",
       "    .dataframe tbody tr th {\n",
       "        vertical-align: top;\n",
       "    }\n",
       "\n",
       "    .dataframe thead th {\n",
       "        text-align: right;\n",
       "    }\n",
       "</style>\n",
       "<table border=\"1\" class=\"dataframe\">\n",
       "  <thead>\n",
       "    <tr style=\"text-align: right;\">\n",
       "      <th></th>\n",
       "      <th>TLC</th>\n",
       "      <th>Lymphocytes(%)</th>\n",
       "      <th>Polymorphs(%)</th>\n",
       "      <th>Protein</th>\n",
       "      <th>Sugar</th>\n",
       "    </tr>\n",
       "  </thead>\n",
       "  <tbody>\n",
       "    <tr>\n",
       "      <th>count</th>\n",
       "      <td>39998.000000</td>\n",
       "      <td>39998.000000</td>\n",
       "      <td>39998.000000</td>\n",
       "      <td>39998.000000</td>\n",
       "      <td>39998.000000</td>\n",
       "    </tr>\n",
       "    <tr>\n",
       "      <th>mean</th>\n",
       "      <td>134.204335</td>\n",
       "      <td>37.005950</td>\n",
       "      <td>22.666908</td>\n",
       "      <td>124.857465</td>\n",
       "      <td>64.814814</td>\n",
       "    </tr>\n",
       "    <tr>\n",
       "      <th>std</th>\n",
       "      <td>254.551754</td>\n",
       "      <td>38.971792</td>\n",
       "      <td>28.192702</td>\n",
       "      <td>198.147338</td>\n",
       "      <td>77.580226</td>\n",
       "    </tr>\n",
       "    <tr>\n",
       "      <th>min</th>\n",
       "      <td>0.000000</td>\n",
       "      <td>0.000000</td>\n",
       "      <td>0.000000</td>\n",
       "      <td>6.000000</td>\n",
       "      <td>0.000000</td>\n",
       "    </tr>\n",
       "    <tr>\n",
       "      <th>25%</th>\n",
       "      <td>3.000000</td>\n",
       "      <td>5.000000</td>\n",
       "      <td>3.000000</td>\n",
       "      <td>7.000000</td>\n",
       "      <td>27.000000</td>\n",
       "    </tr>\n",
       "    <tr>\n",
       "      <th>50%</th>\n",
       "      <td>31.000000</td>\n",
       "      <td>11.000000</td>\n",
       "      <td>9.000000</td>\n",
       "      <td>75.000000</td>\n",
       "      <td>50.000000</td>\n",
       "    </tr>\n",
       "    <tr>\n",
       "      <th>75%</th>\n",
       "      <td>245.000000</td>\n",
       "      <td>82.000000</td>\n",
       "      <td>30.000000</td>\n",
       "      <td>192.000000</td>\n",
       "      <td>84.000000</td>\n",
       "    </tr>\n",
       "    <tr>\n",
       "      <th>max</th>\n",
       "      <td>3102.000000</td>\n",
       "      <td>100.000000</td>\n",
       "      <td>100.000000</td>\n",
       "      <td>1691.000000</td>\n",
       "      <td>805.000000</td>\n",
       "    </tr>\n",
       "  </tbody>\n",
       "</table>\n",
       "</div>"
      ],
      "text/plain": [
       "                TLC  Lymphocytes(%)  Polymorphs(%)       Protein         Sugar\n",
       "count  39998.000000    39998.000000   39998.000000  39998.000000  39998.000000\n",
       "mean     134.204335       37.005950      22.666908    124.857465     64.814814\n",
       "std      254.551754       38.971792      28.192702    198.147338     77.580226\n",
       "min        0.000000        0.000000       0.000000      6.000000      0.000000\n",
       "25%        3.000000        5.000000       3.000000      7.000000     27.000000\n",
       "50%       31.000000       11.000000       9.000000     75.000000     50.000000\n",
       "75%      245.000000       82.000000      30.000000    192.000000     84.000000\n",
       "max     3102.000000      100.000000     100.000000   1691.000000    805.000000"
      ]
     },
     "execution_count": 13,
     "metadata": {},
     "output_type": "execute_result"
    }
   ],
   "source": [
    "df.describe()"
   ]
  },
  {
   "cell_type": "code",
   "execution_count": 15,
   "id": "87086e6c-5f9a-4321-b4b5-34de52441d61",
   "metadata": {},
   "outputs": [
    {
     "data": {
      "text/plain": [
       "2352"
      ]
     },
     "execution_count": 15,
     "metadata": {},
     "output_type": "execute_result"
    }
   ],
   "source": [
    "df.duplicated().sum()"
   ]
  },
  {
   "cell_type": "code",
   "execution_count": 16,
   "id": "f9e6edba-85b8-427c-8c2f-f92f9d59c3a6",
   "metadata": {},
   "outputs": [],
   "source": [
    "df = df.drop_duplicates()"
   ]
  },
  {
   "cell_type": "code",
   "execution_count": 17,
   "id": "6040d17f-c306-4c95-8494-fef7425cacb3",
   "metadata": {},
   "outputs": [
    {
     "data": {
      "text/plain": [
       "TLC               0\n",
       "Lymphocytes(%)    0\n",
       "Polymorphs(%)     0\n",
       "Protein           0\n",
       "Sugar             0\n",
       "Condition         0\n",
       "dtype: int64"
      ]
     },
     "execution_count": 17,
     "metadata": {},
     "output_type": "execute_result"
    }
   ],
   "source": [
    "df.isnull().sum()"
   ]
  },
  {
   "cell_type": "code",
   "execution_count": 18,
   "id": "38fbb28a-16cf-4dd7-810a-c467fa729e76",
   "metadata": {},
   "outputs": [
    {
     "data": {
      "text/plain": [
       "(37646, 6)"
      ]
     },
     "execution_count": 18,
     "metadata": {},
     "output_type": "execute_result"
    }
   ],
   "source": [
    "df.shape"
   ]
  },
  {
   "cell_type": "code",
   "execution_count": 19,
   "id": "fe2be36c-00f9-4ea9-9848-74c05ca78ea1",
   "metadata": {},
   "outputs": [
    {
     "data": {
      "text/plain": [
       "Condition\n",
       "Abnormal    22284\n",
       "Normal      15362\n",
       "Name: count, dtype: int64"
      ]
     },
     "execution_count": 19,
     "metadata": {},
     "output_type": "execute_result"
    }
   ],
   "source": [
    "df['Condition'].value_counts()"
   ]
  },
  {
   "cell_type": "code",
   "execution_count": 27,
   "id": "bfc3f40d-6256-46bd-a301-7c2d8ce9f94b",
   "metadata": {},
   "outputs": [],
   "source": [
    "le = LabelEncoder()\n",
    "df['Condition'] = le.fit_transform(df['Condition'])  "
   ]
  },
  {
   "cell_type": "code",
   "execution_count": 28,
   "id": "dd917e78-4135-4a1a-9003-7bb89cd4d0f6",
   "metadata": {},
   "outputs": [
    {
     "data": {
      "text/plain": [
       "Condition\n",
       "0    22284\n",
       "1    15362\n",
       "Name: count, dtype: int64"
      ]
     },
     "execution_count": 28,
     "metadata": {},
     "output_type": "execute_result"
    }
   ],
   "source": [
    "df['Condition'].value_counts()"
   ]
  },
  {
   "cell_type": "code",
   "execution_count": 29,
   "id": "4d60c6df-4e67-4de5-a2a4-e0592e4e505b",
   "metadata": {},
   "outputs": [
    {
     "name": "stdout",
     "output_type": "stream",
     "text": [
      "🔍 Negative Values Per Feature:\n",
      "TLC               0\n",
      "Lymphocytes(%)    0\n",
      "Polymorphs(%)     0\n",
      "Protein           0\n",
      "Sugar             0\n",
      "Condition         0\n",
      "dtype: int64\n"
     ]
    }
   ],
   "source": [
    "negative_counts = (df < 0).sum()\n",
    "\n",
    "print(\"🔍 Negative Values Per Feature:\")\n",
    "print(negative_counts)"
   ]
  },
  {
   "cell_type": "code",
   "execution_count": 30,
   "id": "4e58aba7-e301-4b46-9d62-27958f145302",
   "metadata": {},
   "outputs": [
    {
     "name": "stdout",
     "output_type": "stream",
     "text": [
      "🔍 Decimal (non-integer) Values Per Feature:\n",
      "TLC                0\n",
      "Lymphocytes(%)     0\n",
      "Polymorphs(%)      0\n",
      "Protein           32\n",
      "Sugar             36\n",
      "Condition          0\n",
      "dtype: int64\n"
     ]
    }
   ],
   "source": [
    "decimal_counts = (df % 1 != 0).sum()\n",
    "\n",
    "print(\"🔍 Decimal (non-integer) Values Per Feature:\")\n",
    "print(decimal_counts)"
   ]
  },
  {
   "cell_type": "markdown",
   "id": "644f3e2f-6a68-4274-9d49-40b4693c5b22",
   "metadata": {},
   "source": [
    "## Class Ranges:\n",
    "| Feature             | Normal | TBM     | PM      |\n",
    "| ------------------- | ------ | ------- | ------- |\n",
    "| **TLC**             | < 5    | 5 – 250 | > 250   |\n",
    "| **Lymphocytes**     | 0–10%  | 70–100% | 0–20%   |\n",
    "| **Polymorphs**      | 0–10%  | 0–30%   | 20–100% |\n",
    "| **Protein** (mg/dl) | 6–8    | 58–200  | > 200   |\n",
    "| **Sugar** (mg/dl)   | 70–99  | 20–50   | 2–30    |\n"
   ]
  },
  {
   "cell_type": "markdown",
   "id": "f3c9280f-8776-4458-9f63-abd788c58ab9",
   "metadata": {},
   "source": [
    "## Data Visualization"
   ]
  },
  {
   "cell_type": "code",
   "execution_count": 31,
   "id": "5cb7a291-5854-4a09-a4e2-ed36a91bffda",
   "metadata": {},
   "outputs": [
    {
     "data": {
      "text/plain": [
       "<Axes: xlabel='Condition', ylabel='count'>"
      ]
     },
     "execution_count": 31,
     "metadata": {},
     "output_type": "execute_result"
    },
    {
     "data": {
      "image/png": "[encoded data removed]",
      "text/plain": [
       "<Figure size 640x480 with 1 Axes>"
      ]
     },
     "metadata": {},
     "output_type": "display_data"
    }
   ],
   "source": [
    "sns.countplot(data=df, x='Condition')"
   ]
  },
  {
   "cell_type": "code",
   "execution_count": 32,
   "id": "216c00e8-f125-470c-9e2d-86aae1aa1e82",
   "metadata": {},
   "outputs": [
    {
     "data": {
      "text/plain": [
       "<Axes: >"
      ]
     },
     "execution_count": 32,
     "metadata": {},
     "output_type": "execute_result"
    },
    {
     "data": {
      "image/png": "[encoded data removed]",
      "text/plain": [
       "<Figure size 640x480 with 2 Axes>"
      ]
     },
     "metadata": {},
     "output_type": "display_data"
    }
   ],
   "source": [
    "sns.heatmap(df.corr(), annot=True, cmap='coolwarm')"
   ]
  },
  {
   "cell_type": "code",
   "execution_count": 33,
   "id": "20b7895b-1e91-4c59-ab88-fc91d121452c",
   "metadata": {},
   "outputs": [
    {
     "data": {
      "text/plain": [
       "<Axes: xlabel='Condition', ylabel='Polymorphs(%)'>"
      ]
     },
     "execution_count": 33,
     "metadata": {},
     "output_type": "execute_result"
    },
    {
     "data": {
      "image/png": "[encoded data removed]",
      "text/plain": [
       "<Figure size 640x480 with 1 Axes>"
      ]
     },
     "metadata": {},
     "output_type": "display_data"
    }
   ],
   "source": [
    "sns.boxplot(x='Condition', y='Polymorphs(%)', data=df)"
   ]
  },
  {
   "cell_type": "code",
   "execution_count": 34,
   "id": "4e7ab1ff-ba9b-40a3-8cae-2b6f9bcae64a",
   "metadata": {},
   "outputs": [
    {
     "data": {
      "text/plain": [
       "<Axes: xlabel='Condition', ylabel='Lymphocytes(%)'>"
      ]
     },
     "execution_count": 34,
     "metadata": {},
     "output_type": "execute_result"
    },
    {
     "data": {
      "image/png": "[encoded data removed]",
      "text/plain": [
       "<Figure size 640x480 with 1 Axes>"
      ]
     },
     "metadata": {},
     "output_type": "display_data"
    }
   ],
   "source": [
    "sns.boxplot(x='Condition', y='Lymphocytes(%)', data=df)"
   ]
  },
  {
   "cell_type": "code",
   "execution_count": 38,
   "id": "6d19306d-1156-4d04-8b01-7722dd247c4b",
   "metadata": {},
   "outputs": [
    {
     "data": {
      "text/plain": [
       "<Axes: xlabel='Condition', ylabel='Sugar'>"
      ]
     },
     "execution_count": 38,
     "metadata": {},
     "output_type": "execute_result"
    },
    {
     "data": {
      "image/png": "[encoded data removed]",
      "text/plain": [
       "<Figure size 640x480 with 1 Axes>"
      ]
     },
     "metadata": {},
     "output_type": "display_data"
    }
   ],
   "source": [
    "sns.boxplot(x='Condition', y='Sugar', data=df)"
   ]
  },
  {
   "cell_type": "code",
   "execution_count": 39,
   "id": "9e2519d3-6487-4923-8a86-a0fc6f7e843f",
   "metadata": {},
   "outputs": [
    {
     "data": {
      "text/plain": [
       "<Axes: xlabel='Condition', ylabel='Protein'>"
      ]
     },
     "execution_count": 39,
     "metadata": {},
     "output_type": "execute_result"
    },
    {
     "data": {
      "image/png": "[encoded data removed]",
      "text/plain": [
       "<Figure size 640x480 with 1 Axes>"
      ]
     },
     "metadata": {},
     "output_type": "display_data"
    }
   ],
   "source": [
    "sns.boxplot(x='Condition', y='Protein', data=df)"
   ]
  },
  {
   "cell_type": "code",
   "execution_count": 37,
   "id": "6018cf34-20fe-408e-abcc-437500a3801a",
   "metadata": {},
   "outputs": [
    {
     "data": {
      "text/plain": [
       "<Axes: xlabel='Condition', ylabel='TLC'>"
      ]
     },
     "execution_count": 37,
     "metadata": {},
     "output_type": "execute_result"
    },
    {
     "data": {
      "image/png": "[encoded data removed]",
      "text/plain": [
       "<Figure size 640x480 with 1 Axes>"
      ]
     },
     "metadata": {},
     "output_type": "display_data"
    }
   ],
   "source": [
    "sns.boxplot(x='Condition', y='TLC', data=df)"
   ]
  },
  {
   "cell_type": "code",
   "execution_count": 35,
   "id": "c1256a30-b284-4846-9dbb-d1a4494440a3",
   "metadata": {},
   "outputs": [],
   "source": [
    "from sklearn.ensemble import RandomForestClassifier\n",
    "\n",
    "# Normal → 1, Abnormal → 0\n",
    "le = LabelEncoder()\n",
    "df['Condition'] = le.fit_transform(df['Condition'])  \n",
    "\n",
    "X = df.drop(\"Condition\", axis=1)\n",
    "y = df[\"Condition\"]\n",
    "\n",
    "X_train, X_test, y_train, y_test = train_test_split(\n",
    "    X, y, test_size=0.2, random_state=42\n",
    ")"
   ]
  },
  {
   "cell_type": "code",
   "execution_count": 36,
   "id": "33eaf625-3364-4fc6-ac0b-adb38a09e231",
   "metadata": {},
   "outputs": [
    {
     "data": {
      "image/png": "[encoded data removed]",
      "text/plain": [
       "<Figure size 800x500 with 1 Axes>"
      ]
     },
     "metadata": {},
     "output_type": "display_data"
    },
    {
     "name": "stdout",
     "output_type": "stream",
     "text": [
      "Feature Importance Score\n",
      "TLC               0.449367\n",
      "Protein           0.294393\n",
      "Sugar             0.169462\n",
      "Polymorphs(%)     0.059131\n",
      "Lymphocytes(%)    0.027647\n",
      "dtype: float64\n"
     ]
    }
   ],
   "source": [
    "from sklearn.ensemble import RandomForestClassifier\n",
    "\n",
    "model = RandomForestClassifier(random_state=42)\n",
    "model.fit(X_train, y_train)\n",
    "\n",
    "importances = model.feature_importances_\n",
    "features = X.columns\n",
    "\n",
    "plt.figure(figsize=(8, 5))\n",
    "plt.barh(features, importances)\n",
    "plt.xlabel(\"Importance Score\")\n",
    "plt.title(\"Feature Importance\")\n",
    "plt.tight_layout()\n",
    "plt.show()\n",
    "print(\"Feature Importance Score\")\n",
    "print(pd.Series(importances, index=features).sort_values(ascending=False))"
   ]
  },
  {
   "cell_type": "code",
   "execution_count": 41,
   "id": "da0ccb63-063b-4540-94e0-f5eb3340322a",
   "metadata": {},
   "outputs": [
    {
     "data": {
      "text/html": [
       "<div>\n",
       "<style scoped>\n",
       "    .dataframe tbody tr th:only-of-type {\n",
       "        vertical-align: middle;\n",
       "    }\n",
       "\n",
       "    .dataframe tbody tr th {\n",
       "        vertical-align: top;\n",
       "    }\n",
       "\n",
       "    .dataframe thead th {\n",
       "        text-align: right;\n",
       "    }\n",
       "</style>\n",
       "<table border=\"1\" class=\"dataframe\">\n",
       "  <thead>\n",
       "    <tr style=\"text-align: right;\">\n",
       "      <th></th>\n",
       "      <th>TLC</th>\n",
       "      <th>Lymphocytes(%)</th>\n",
       "      <th>Polymorphs(%)</th>\n",
       "      <th>Protein</th>\n",
       "      <th>Sugar</th>\n",
       "      <th>Condition</th>\n",
       "    </tr>\n",
       "  </thead>\n",
       "  <tbody>\n",
       "    <tr>\n",
       "      <th>14257</th>\n",
       "      <td>297</td>\n",
       "      <td>11</td>\n",
       "      <td>79</td>\n",
       "      <td>297.0</td>\n",
       "      <td>29.0</td>\n",
       "      <td>0</td>\n",
       "    </tr>\n",
       "    <tr>\n",
       "      <th>30907</th>\n",
       "      <td>7</td>\n",
       "      <td>100</td>\n",
       "      <td>0</td>\n",
       "      <td>71.0</td>\n",
       "      <td>98.0</td>\n",
       "      <td>1</td>\n",
       "    </tr>\n",
       "    <tr>\n",
       "      <th>9371</th>\n",
       "      <td>247</td>\n",
       "      <td>92</td>\n",
       "      <td>4</td>\n",
       "      <td>143.0</td>\n",
       "      <td>48.0</td>\n",
       "      <td>0</td>\n",
       "    </tr>\n",
       "    <tr>\n",
       "      <th>25034</th>\n",
       "      <td>368</td>\n",
       "      <td>15</td>\n",
       "      <td>53</td>\n",
       "      <td>296.0</td>\n",
       "      <td>17.0</td>\n",
       "      <td>0</td>\n",
       "    </tr>\n",
       "    <tr>\n",
       "      <th>38203</th>\n",
       "      <td>2</td>\n",
       "      <td>4</td>\n",
       "      <td>5</td>\n",
       "      <td>6.0</td>\n",
       "      <td>81.0</td>\n",
       "      <td>1</td>\n",
       "    </tr>\n",
       "    <tr>\n",
       "      <th>6070</th>\n",
       "      <td>209</td>\n",
       "      <td>94</td>\n",
       "      <td>24</td>\n",
       "      <td>101.0</td>\n",
       "      <td>20.0</td>\n",
       "      <td>0</td>\n",
       "    </tr>\n",
       "    <tr>\n",
       "      <th>209</th>\n",
       "      <td>172</td>\n",
       "      <td>88</td>\n",
       "      <td>12</td>\n",
       "      <td>129.0</td>\n",
       "      <td>49.0</td>\n",
       "      <td>0</td>\n",
       "    </tr>\n",
       "    <tr>\n",
       "      <th>9050</th>\n",
       "      <td>4</td>\n",
       "      <td>1</td>\n",
       "      <td>1</td>\n",
       "      <td>6.0</td>\n",
       "      <td>83.0</td>\n",
       "      <td>1</td>\n",
       "    </tr>\n",
       "    <tr>\n",
       "      <th>9130</th>\n",
       "      <td>373</td>\n",
       "      <td>6</td>\n",
       "      <td>74</td>\n",
       "      <td>251.0</td>\n",
       "      <td>13.0</td>\n",
       "      <td>0</td>\n",
       "    </tr>\n",
       "    <tr>\n",
       "      <th>3502</th>\n",
       "      <td>362</td>\n",
       "      <td>5</td>\n",
       "      <td>77</td>\n",
       "      <td>214.0</td>\n",
       "      <td>5.0</td>\n",
       "      <td>0</td>\n",
       "    </tr>\n",
       "    <tr>\n",
       "      <th>36414</th>\n",
       "      <td>2</td>\n",
       "      <td>0</td>\n",
       "      <td>9</td>\n",
       "      <td>8.0</td>\n",
       "      <td>97.0</td>\n",
       "      <td>1</td>\n",
       "    </tr>\n",
       "    <tr>\n",
       "      <th>29435</th>\n",
       "      <td>4</td>\n",
       "      <td>3</td>\n",
       "      <td>0</td>\n",
       "      <td>8.0</td>\n",
       "      <td>89.0</td>\n",
       "      <td>1</td>\n",
       "    </tr>\n",
       "    <tr>\n",
       "      <th>14685</th>\n",
       "      <td>25</td>\n",
       "      <td>78</td>\n",
       "      <td>6</td>\n",
       "      <td>94.0</td>\n",
       "      <td>28.0</td>\n",
       "      <td>0</td>\n",
       "    </tr>\n",
       "    <tr>\n",
       "      <th>26043</th>\n",
       "      <td>163</td>\n",
       "      <td>92</td>\n",
       "      <td>20</td>\n",
       "      <td>99.0</td>\n",
       "      <td>23.0</td>\n",
       "      <td>0</td>\n",
       "    </tr>\n",
       "    <tr>\n",
       "      <th>7346</th>\n",
       "      <td>200</td>\n",
       "      <td>19</td>\n",
       "      <td>86</td>\n",
       "      <td>162.0</td>\n",
       "      <td>719.0</td>\n",
       "      <td>0</td>\n",
       "    </tr>\n",
       "  </tbody>\n",
       "</table>\n",
       "</div>"
      ],
      "text/plain": [
       "       TLC  Lymphocytes(%)  Polymorphs(%)  Protein  Sugar  Condition\n",
       "14257  297              11             79    297.0   29.0          0\n",
       "30907    7             100              0     71.0   98.0          1\n",
       "9371   247              92              4    143.0   48.0          0\n",
       "25034  368              15             53    296.0   17.0          0\n",
       "38203    2               4              5      6.0   81.0          1\n",
       "6070   209              94             24    101.0   20.0          0\n",
       "209    172              88             12    129.0   49.0          0\n",
       "9050     4               1              1      6.0   83.0          1\n",
       "9130   373               6             74    251.0   13.0          0\n",
       "3502   362               5             77    214.0    5.0          0\n",
       "36414    2               0              9      8.0   97.0          1\n",
       "29435    4               3              0      8.0   89.0          1\n",
       "14685   25              78              6     94.0   28.0          0\n",
       "26043  163              92             20     99.0   23.0          0\n",
       "7346   200              19             86    162.0  719.0          0"
      ]
     },
     "execution_count": 41,
     "metadata": {},
     "output_type": "execute_result"
    }
   ],
   "source": [
    "df.sample(15)"
   ]
  },
  {
   "cell_type": "code",
   "execution_count": null,
   "id": "6cac24a5-e22a-4d04-b80d-acd543fbe181",
   "metadata": {},
   "outputs": [],
   "source": []
  }
 ],
 "metadata": {
  "kernelspec": {
   "display_name": "Python 3 (ipykernel)",
   "language": "python",
   "name": "python3"
  },
  "language_info": {
   "codemirror_mode": {
    "name": "ipython",
    "version": 3
   },
   "file_extension": ".py",
   "mimetype": "text/x-python",
   "name": "python",
   "nbconvert_exporter": "python",
   "pygments_lexer": "ipython3",
   "version": "3.12.4"
  }
 },
 "nbformat": 4,
 "nbformat_minor": 5
}
